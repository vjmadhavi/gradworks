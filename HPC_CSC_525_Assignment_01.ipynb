{
 "cells": [
  {
   "cell_type": "markdown",
   "id": "8661f053",
   "metadata": {},
   "source": [
    "#                                                Assignment_01\n",
    "\n",
    "\n",
    "\n",
    "# CHANDANA KORRAPATI (101073424)\n",
    "\n",
    "# MUKESH REDDY SUDHIREDDY (101101931)\n",
    "\n",
    "# VENU MADHAVI JAKKAMPUDI (101103662)\n",
    "\n",
    "# \n",
    "\n",
    "# "
   ]
  },
  {
   "cell_type": "markdown",
   "id": "26008b53",
   "metadata": {},
   "source": [
    "# 54-A"
   ]
  },
  {
   "cell_type": "code",
   "execution_count": 26,
   "id": "662bc5b6",
   "metadata": {},
   "outputs": [
    {
     "name": "stdout",
     "output_type": "stream",
     "text": [
      "enter date of birth(MM/DD/YYYY):12/12/1212\n",
      "You were born in the year  1212\n",
      "You were born on:  1212-12-12\n"
     ]
    }
   ],
   "source": [
    "\n",
    "\n",
    "import datetime #importing datetime module\n",
    "try:\n",
    "    birthdate = input('enter date of birth(MM/DD/YYYY):')#input\n",
    "    Bday = datetime.datetime.strptime(birthdate, '%m/%d/%Y')\n",
    "    print('You were born in the year ',Bday.year) \n",
    "    print('You were born on: ',Bday.date())  #to print date in ISO format using date().\n",
    "\n",
    "except ValueError:\n",
    "    print(\"Bad input!\")"
   ]
  },
  {
   "cell_type": "markdown",
   "id": "b96f9007",
   "metadata": {},
   "source": [
    "# 58-A"
   ]
  },
  {
   "cell_type": "code",
   "execution_count": 4,
   "id": "e1574360",
   "metadata": {},
   "outputs": [
    {
     "name": "stdout",
     "output_type": "stream",
     "text": [
      "enter the number: 2\n",
      "enter the number: 2\n",
      "enter the number: 2\n",
      "enter the number: 2\n",
      "enter the number: 2\n",
      "enter the number: 2\n",
      "enter the number: 2\n",
      "enter the number: 2\n",
      "enter the number: 2\n",
      "enter the number: 2\n",
      "No odd numbers\n"
     ]
    }
   ],
   "source": [
    "\n",
    "#print largest odd number in the input of numbers.\n",
    "\n",
    "odds=[]\n",
    "try:\n",
    "    for i in range(0,10):\n",
    "        number= int(input('enter the number: ')) #input\n",
    "        if number%2==0:\n",
    "            continue\n",
    "        else: odds.append(number)\n",
    "    print(max(odds))\n",
    "except ValueError:\n",
    "    print(\"No odd numbers\")\n",
    "        "
   ]
  },
  {
   "cell_type": "markdown",
   "id": "1c290f73",
   "metadata": {},
   "source": [
    "## 62-A"
   ]
  },
  {
   "cell_type": "code",
   "execution_count": 5,
   "id": "7cbb4260",
   "metadata": {},
   "outputs": [
    {
     "name": "stdout",
     "output_type": "stream",
     "text": [
      "76125 is the sum of primes between 2 and 1000\n"
     ]
    }
   ],
   "source": [
    "\n",
    "#sum of primes between 2 and 1000.\n",
    "\n",
    "sum=0 #initiating variable 'sum' to zero\n",
    "for i in range(2+1,1000):\n",
    "    for j in range(2,i):\n",
    "        if i%j==0:\n",
    "            break\n",
    "    if i%j!=0:\n",
    "        sum=sum+i #suming up the number i if it is a prime\n",
    "print(sum,\"is the sum of primes between 2 and 1000\") #printing sum of primes.\n",
    "            \n",
    "        "
   ]
  },
  {
   "cell_type": "markdown",
   "id": "794afb76",
   "metadata": {},
   "source": [
    "#  72-A"
   ]
  },
  {
   "cell_type": "code",
   "execution_count": 7,
   "id": "e88c635a",
   "metadata": {},
   "outputs": [
    {
     "name": "stdout",
     "output_type": "stream",
     "text": [
      "Enter an integer greater than 2: 78\n",
      "greatest divisor of 78 is 39.0\n"
     ]
    }
   ],
   "source": [
    "\n",
    "x = int(input('Enter an integer greater than 2: ')) # input some number greater than 2.\n",
    "smallest_divisor = None\n",
    "for guess in range(2, x):\n",
    "    if x%guess == 0: \n",
    "        smallest_divisor = guess\n",
    "        break\n",
    "if smallest_divisor != None:\n",
    "    greatest_divisor = (x/smallest_divisor) #greatest divisor is given number divided by the smallest number if it is not a prime number.\n",
    "    print('greatest divisor of', x, 'is', greatest_divisor)\n",
    "else:\n",
    "    print(x, 'is a prime number')# prints the number is prime if it has no factors other than 1 and itself."
   ]
  },
  {
   "cell_type": "markdown",
   "id": "9972f7a8",
   "metadata": {},
   "source": [
    "# 79-A"
   ]
  },
  {
   "cell_type": "code",
   "execution_count": 9,
   "id": "fb4f773f",
   "metadata": {},
   "outputs": [
    {
     "name": "stdout",
     "output_type": "stream",
     "text": [
      "enter a number: 23\n",
      "low = 1.0 high = 23 ans = 12.0\n",
      "low = 1.0 high = 12.0 ans = 6.5\n",
      "low = 1.0 high = 6.5 ans = 3.75\n",
      "low = 1.0 high = 3.75 ans = 2.375\n",
      "low = 2.375 high = 3.75 ans = 3.0625\n",
      "low = 2.375 high = 3.0625 ans = 2.71875\n",
      "low = 2.71875 high = 3.0625 ans = 2.890625\n",
      "low = 2.71875 high = 2.890625 ans = 2.8046875\n",
      "low = 2.8046875 high = 2.890625 ans = 2.84765625\n",
      "low = 2.8046875 high = 2.84765625 ans = 2.826171875\n",
      "low = 2.826171875 high = 2.84765625 ans = 2.8369140625\n",
      "low = 2.8369140625 high = 2.84765625 ans = 2.84228515625\n",
      "low = 2.84228515625 high = 2.84765625 ans = 2.844970703125\n",
      "2.8436279296875 is close to cube root of 23\n"
     ]
    }
   ],
   "source": [
    "\n",
    "#cube root of negative and positive integers.\n",
    "\n",
    "x = int(input(\"enter a number: \"))\n",
    "epsilon = 0.01\n",
    "\n",
    "low = min(x, 1.0)\n",
    "high = max(1.0, x)\n",
    "ans = (high + low) / 2.0 #perform bisection search\n",
    "while abs(ans**3 - x) >= epsilon:\n",
    "    print('low =', low, 'high =', high, 'ans =', ans)\n",
    "    \n",
    "    if ans**3 < x:\n",
    "        low = ans\n",
    "    else:\n",
    "        high = ans\n",
    "    ans = (high + low) / 2.0\n",
    "print(ans, 'is close to cube root of', x)"
   ]
  },
  {
   "cell_type": "markdown",
   "id": "693e4abb",
   "metadata": {},
   "source": [
    "# 128-A"
   ]
  },
  {
   "cell_type": "code",
   "execution_count": 27,
   "id": "f93a51bf",
   "metadata": {},
   "outputs": [
    {
     "name": "stdout",
     "output_type": "stream",
     "text": [
      "[4, 6, 8, 9, 10, 12, 14, 15, 16, 18, 20, 21, 22, 24, 25, 26, 27, 28, 30, 32, 33, 34, 35, 36, 38, 39, 40, 42, 44, 45, 46, 48, 49, 50, 51, 52, 54, 55, 56, 57, 58, 60, 62, 63, 64, 65, 66, 68, 69, 70, 72, 74, 75, 76, 77, 78, 80, 81, 82, 84, 85, 86, 87, 88, 90, 91, 92, 93, 94, 95, 96, 98, 99]\n"
     ]
    }
   ],
   "source": [
    "\n",
    "#list comprehension of all non primes between 2 and 100.\n",
    "import math\n",
    "def is_not_prime(n):\n",
    "    ans = False\n",
    "    for i in range(2, int(math.sqrt(n)) + 1):\n",
    "        if n % i == 0:\n",
    "            ans = True\n",
    "    return ans\n",
    "print([x for x in filter(is_not_prime, range(2, 100))])  #prints list of all non primes "
   ]
  },
  {
   "cell_type": "code",
   "execution_count": null,
   "id": "08f246a7",
   "metadata": {},
   "outputs": [],
   "source": [
    "# 351A\n",
    "\n",
    "\n",
    "\n",
    "def drunk_test_line_plot(walk_lengths, num_trials, d_class):\n",
    "    \"\"\"\n",
    "    drunk_test_line_plot plots the mean distances of different walk lengths obtained from the simulation of given number of trials\n",
    "    :param walk_lengths: list of different number of steps\n",
    "    :param num_trials: number of times the drunk walks\n",
    "    :param d_class: As we have only one drunk type for this assignment, it will be Usual_drunk's class name\n",
    "    \"\"\"\n",
    "    # initialise\n",
    "    # mean_distance - empty list to store mean distance after each simulation for different walk lengths\n",
    "    mean_distance = []\n",
    "\n",
    "    # loop through different walk lengths\n",
    "    for num_step in walk_lengths:\n",
    "        # get distances for each trial for each walk length\n",
    "        distances = sim_walks(num_step, num_trials, d_class)\n",
    "\n",
    "        # calculate mean of these distances for each walk length\n",
    "        mean_distance.append(round(sum(distances) / len(distances), 4))\n",
    "\n",
    "    # x number of steps for square root line\n",
    "    x = list(range(10, 100001))\n",
    "    # sqrt_distance - a list of square root of number of steps\n",
    "    sqrt_distances = [math.sqrt(x) for x in range(10, 100001)]\n",
    "\n",
    "    # plotting line graph with walk_lengths on x-axis and mean/sqrt distances on y-axis\n",
    "    # line 1 - mean distances of Usual_drunk\n",
    "    plt.plot(walk_lengths, mean_distance, '-b', label=d_class.__name__)\n",
    "    # line 2 - square root of steps\n",
    "    plt.plot(x, sqrt_distances, ':b', label=\"sqrt(steps)\")\n",
    "\n",
    "    # title to the plot\n",
    "    plt.title(\"Mean Distance from origin(\" + str(num_trials) + \"trials)\")\n",
    "    # x label for plot\n",
    "    plt.xlabel(\"Num of steps\")\n",
    "    # y label for plot\n",
    "    plt.ylabel(\"Distance from origin\")\n",
    "    # legend for plot, loc defined location, where we want the legend, and having \"best\" places it accordingly based on our plot\n",
    "    plt.legend(loc=\"best\")\n",
    "\n",
    "    # x-axis and y-axis with semi-logarithmic values\n",
    "    plt.semilogx()\n",
    "    plt.semilogy()\n",
    "\n",
    "    # display the plot\n",
    "    plt.show()\n",
    "drunk_test_line_plot((10, 100, 1000, 10000, 100000), 100, (Usual_drunk, Cold_drunk, EW_drunk)"
   ]
  },
  {
   "cell_type": "code",
   "execution_count": null,
   "id": "c5aea45d",
   "metadata": {},
   "outputs": [],
   "source": []
  }
 ],
 "metadata": {
  "kernelspec": {
   "display_name": "Python 3 (ipykernel)",
   "language": "python",
   "name": "python3"
  },
  "language_info": {
   "codemirror_mode": {
    "name": "ipython",
    "version": 3
   },
   "file_extension": ".py",
   "mimetype": "text/x-python",
   "name": "python",
   "nbconvert_exporter": "python",
   "pygments_lexer": "ipython3",
   "version": "3.9.7"
  }
 },
 "nbformat": 4,
 "nbformat_minor": 5
}
