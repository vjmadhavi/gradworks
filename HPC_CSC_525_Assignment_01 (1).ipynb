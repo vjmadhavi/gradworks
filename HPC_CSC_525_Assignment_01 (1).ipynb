{
 "cells": [
  {
   "cell_type": "markdown",
   "id": "8661f053",
   "metadata": {},
   "source": [
    "#                                                Assignment_01\n",
    "\n",
    "\n",
    "\n",
    "# CHANDANA KORRAPATI (101073424)\n",
    "\n",
    "# MUKESH REDDY SUDHIREDDY (101101931)\n",
    "\n",
    "# VENU MADHAVI JAKKAMPUDI (101103662)\n",
    "\n",
    "# \n",
    "\n",
    "# "
   ]
  },
  {
   "cell_type": "markdown",
   "id": "26008b53",
   "metadata": {},
   "source": [
    "# 54-A"
   ]
  },
  {
   "cell_type": "code",
   "execution_count": 26,
   "id": "662bc5b6",
   "metadata": {},
   "outputs": [
    {
     "name": "stdout",
     "output_type": "stream",
     "text": [
      "enter date of birth(MM/DD/YYYY):12/12/1212\n",
      "You were born in the year  1212\n",
      "You were born on:  1212-12-12\n"
     ]
    }
   ],
   "source": [
    "\n",
    "\n",
    "import datetime #importing datetime module\n",
    "try:\n",
    "    birthdate = input('enter date of birth(MM/DD/YYYY):')#input\n",
    "    Bday = datetime.datetime.strptime(birthdate, '%m/%d/%Y')\n",
    "    print('You were born in the year ',Bday.year) \n",
    "    print('You were born on: ',Bday.date())  #to print date in ISO format using date().\n",
    "\n",
    "except ValueError:\n",
    "    print(\"Bad input!\")"
   ]
  },
  {
   "cell_type": "markdown",
   "id": "b96f9007",
   "metadata": {},
   "source": [
    "# 58-A"
   ]
  },
  {
   "cell_type": "code",
   "execution_count": 4,
   "id": "e1574360",
   "metadata": {},
   "outputs": [
    {
     "name": "stdout",
     "output_type": "stream",
     "text": [
      "enter the number: 2\n",
      "enter the number: 2\n",
      "enter the number: 2\n",
      "enter the number: 2\n",
      "enter the number: 2\n",
      "enter the number: 2\n",
      "enter the number: 2\n",
      "enter the number: 2\n",
      "enter the number: 2\n",
      "enter the number: 2\n",
      "No odd numbers\n"
     ]
    }
   ],
   "source": [
    "\n",
    "#print largest odd number in the input of numbers.\n",
    "\n",
    "odds=[]\n",
    "try:\n",
    "    for i in range(0,10):\n",
    "        number= int(input('enter the number: ')) #input\n",
    "        if number%2==0:\n",
    "            continue\n",
    "        else: odds.append(number)\n",
    "    print(max(odds))\n",
    "except ValueError:\n",
    "    print(\"No odd numbers\")\n",
    "        "
   ]
  },
  {
   "cell_type": "markdown",
   "id": "1c290f73",
   "metadata": {},
   "source": [
    "## 62-A"
   ]
  },
  {
   "cell_type": "code",
   "execution_count": 5,
   "id": "7cbb4260",
   "metadata": {},
   "outputs": [
    {
     "name": "stdout",
     "output_type": "stream",
     "text": [
      "76125 is the sum of primes between 2 and 1000\n"
     ]
    }
   ],
   "source": [
    "\n",
    "#sum of primes between 2 and 1000.\n",
    "\n",
    "sum=0 #initiating variable 'sum' to zero\n",
    "for i in range(2+1,1000):\n",
    "    for j in range(2,i):\n",
    "        if i%j==0:\n",
    "            break\n",
    "    if i%j!=0:\n",
    "        sum=sum+i #suming up the number i if it is a prime\n",
    "print(sum,\"is the sum of primes between 2 and 1000\") #printing sum of primes.\n",
    "            \n",
    "        "
   ]
  },
  {
   "cell_type": "markdown",
   "id": "794afb76",
   "metadata": {},
   "source": [
    "#  72-A"
   ]
  },
  {
   "cell_type": "code",
   "execution_count": 7,
   "id": "e88c635a",
   "metadata": {},
   "outputs": [
    {
     "name": "stdout",
     "output_type": "stream",
     "text": [
      "Enter an integer greater than 2: 78\n",
      "greatest divisor of 78 is 39.0\n"
     ]
    }
   ],
   "source": [
    "\n",
    "x = int(input('Enter an integer greater than 2: ')) # input some number greater than 2.\n",
    "smallest_divisor = None\n",
    "for guess in range(2, x):\n",
    "    if x%guess == 0: \n",
    "        smallest_divisor = guess\n",
    "        break\n",
    "if smallest_divisor != None:\n",
    "    greatest_divisor = (x/smallest_divisor) #greatest divisor is given number divided by the smallest number if it is not a prime number.\n",
    "    print('greatest divisor of', x, 'is', greatest_divisor)\n",
    "else:\n",
    "    print(x, 'is a prime number')# prints the number is prime if it has no factors other than 1 and itself."
   ]
  },
  {
   "cell_type": "markdown",
   "id": "9972f7a8",
   "metadata": {},
   "source": [
    "# 79-A"
   ]
  },
  {
   "cell_type": "code",
   "execution_count": 9,
   "id": "fb4f773f",
   "metadata": {},
   "outputs": [
    {
     "name": "stdout",
     "output_type": "stream",
     "text": [
      "enter a number: 23\n",
      "low = 1.0 high = 23 ans = 12.0\n",
      "low = 1.0 high = 12.0 ans = 6.5\n",
      "low = 1.0 high = 6.5 ans = 3.75\n",
      "low = 1.0 high = 3.75 ans = 2.375\n",
      "low = 2.375 high = 3.75 ans = 3.0625\n",
      "low = 2.375 high = 3.0625 ans = 2.71875\n",
      "low = 2.71875 high = 3.0625 ans = 2.890625\n",
      "low = 2.71875 high = 2.890625 ans = 2.8046875\n",
      "low = 2.8046875 high = 2.890625 ans = 2.84765625\n",
      "low = 2.8046875 high = 2.84765625 ans = 2.826171875\n",
      "low = 2.826171875 high = 2.84765625 ans = 2.8369140625\n",
      "low = 2.8369140625 high = 2.84765625 ans = 2.84228515625\n",
      "low = 2.84228515625 high = 2.84765625 ans = 2.844970703125\n",
      "2.8436279296875 is close to cube root of 23\n"
     ]
    }
   ],
   "source": [
    "\n",
    "#cube root of negative and positive integers.\n",
    "\n",
    "x = int(input(\"enter a number: \"))\n",
    "epsilon = 0.01\n",
    "\n",
    "low = min(x, 1.0)\n",
    "high = max(1.0, x)\n",
    "ans = (high + low) / 2.0 #perform bisection search\n",
    "while abs(ans**3 - x) >= epsilon:\n",
    "    print('low =', low, 'high =', high, 'ans =', ans)\n",
    "    \n",
    "    if ans**3 < x:\n",
    "        low = ans\n",
    "    else:\n",
    "        high = ans\n",
    "    ans = (high + low) / 2.0\n",
    "print(ans, 'is close to cube root of', x)"
   ]
  },
  {
   "cell_type": "markdown",
   "id": "693e4abb",
   "metadata": {},
   "source": [
    "# 128-A"
   ]
  },
  {
   "cell_type": "code",
   "execution_count": 27,
   "id": "f93a51bf",
   "metadata": {},
   "outputs": [
    {
     "name": "stdout",
     "output_type": "stream",
     "text": [
      "[4, 6, 8, 9, 10, 12, 14, 15, 16, 18, 20, 21, 22, 24, 25, 26, 27, 28, 30, 32, 33, 34, 35, 36, 38, 39, 40, 42, 44, 45, 46, 48, 49, 50, 51, 52, 54, 55, 56, 57, 58, 60, 62, 63, 64, 65, 66, 68, 69, 70, 72, 74, 75, 76, 77, 78, 80, 81, 82, 84, 85, 86, 87, 88, 90, 91, 92, 93, 94, 95, 96, 98, 99]\n"
     ]
    }
   ],
   "source": [
    "\n",
    "#list comprehension of all non primes between 2 and 100.\n",
    "import math\n",
    "def is_not_prime(n):\n",
    "    ans = False\n",
    "    for i in range(2, int(math.sqrt(n)) + 1):\n",
    "        if n % i == 0:\n",
    "            ans = True\n",
    "    return ans\n",
    "print([x for x in filter(is_not_prime, range(2, 100))])  #prints list of all non primes "
   ]
  },
  {
   "cell_type": "code",
   "execution_count": 16,
   "id": "c5aea45d",
   "metadata": {},
   "outputs": [],
   "source": [
    "import math\n",
    "import random\n",
    "import matplotlib.pyplot as plt\n",
    "\n",
    "class Location(object):\n",
    "    def __init__(self, x, y):\n",
    "        \n",
    "        # here x, y are numbers\n",
    "        self._x, self._y = x, y\n",
    "\n",
    "    def move(self, delta_x, delta_y):\n",
    "        \"\"\"\n",
    "        move gets you a new location when a new step is taken by Drunkard\n",
    "        :param delta_x: x-value of length of step from current position\n",
    "        :param delta_y: y-value of length of step from current position\n",
    "        :return: a new Location instance with new position\n",
    "        \"\"\"\n",
    "        # here delta_x, delta_y are numbers\n",
    "        return Location(self._x + delta_x, self._y + delta_y)\n",
    "\n",
    "    def get_x(self):\n",
    "        \"\"\"\n",
    "        get_x gets the x-position of the drunkard\n",
    "        :return: return _x value\n",
    "        \"\"\"\n",
    "        return self._x\n",
    "\n",
    "    def get_y(self):\n",
    "        \"\"\"\n",
    "        get_y gets the y-position of the drunkard\n",
    "        :return: return _y value\n",
    "        \"\"\"\n",
    "        return self._y\n",
    "\n",
    "    def dist_from(self, other):\n",
    "        \n",
    "        # get x, y values of other's location\n",
    "        ox, oy = other._x, other._y\n",
    "        # calculates distance and returns\n",
    "        x_dist, y_dist = self._x - ox, self._y - oy\n",
    "        return (x_dist ** 2 + y_dist ** 2) ** 0.5\n",
    "\n",
    "    def __str__(self):\n",
    "        \"\"\"\n",
    "        __str__ helps to print x and y values in string when an instance is printed\n",
    "        :return: a string with x and y values of location\n",
    "        \"\"\"\n",
    "        return f'<{self._x}, {self._y}>'\n",
    "\n",
    "\n",
    "class Field(object):\n",
    "    def __init__(self):\n",
    "        \"\"\"\n",
    "        __init__ initializes a new instance with empty dictionary to store all drunkards in the field\n",
    "        \"\"\"\n",
    "        self._drunks = {}\n",
    "\n",
    "    def add_drunk(self, drunk, loc):\n",
    "        \"\"\"\n",
    "        add_drunk adds a new drunk to the field with their location, or raise error if drunk already exists in the field.\n",
    "        :param drunk: a new drunk instance, that needs to be added to field, if doesn't exists\n",
    "        :param loc: a location of this new drunk\n",
    "        \"\"\"\n",
    "        if drunk in self._drunks:#checks if drunkard is in the field\n",
    "            # raise error if drunk exists\n",
    "            raise ValueError('Duplicate drunk')\n",
    "        else:\n",
    "            # if not, add drunk with loc to the field\n",
    "            self._drunks[drunk] = loc\n",
    "\n",
    "    def move_drunk(self, drunk):\n",
    "        \"\"\"\n",
    "        move_drunk calculates x_dist and y_dist and calls the move method of location class and updates the drunk with new location\n",
    "        :param drunk: a drunk instance, that needs to be moved\n",
    "        \"\"\"\n",
    "        # checks if drunk exists in field\n",
    "        if drunk not in self._drunks:\n",
    "            # raise error if drunk doesn't exists\n",
    "            raise ValueError('Drunk not in field')\n",
    "        x_dist, y_dist = drunk.take_step()\n",
    "        # get the current location of drunk\n",
    "        current_location = self._drunks[drunk]\n",
    "        self._drunks[drunk] = current_location.move(x_dist, y_dist)\n",
    "\n",
    "    def get_loc(self, drunk):\n",
    "        \"\"\"\n",
    "        get_loc gets the current location of the drunk\n",
    "        :param drunk: a new drunk instance for which we need location\n",
    "        \"\"\"\n",
    "        # checks if drunk exists in field\n",
    "        if drunk not in self._drunks:\n",
    "            # raises value error if drunk is in the field\n",
    "            raise ValueError('Drunk not in field')\n",
    "        # if exists,\n",
    "        # return location of drunk\n",
    "        return self._drunks[drunk]\n",
    "\n",
    "\n",
    "class Drunk(object):\n",
    "\n",
    "    def __init__(self, name=None):\n",
    "        \"\"\"\n",
    "        __init__ initializes a new instance with name or None, if name is not given\n",
    "        \"\"\"\n",
    "        # Assumes name is a string\n",
    "        self._name = name\n",
    "\n",
    "    def __str__(self):\n",
    "        \"\"\"\n",
    "        __str__ helps to print name of the drunk when a instance of Drunk gets printed\n",
    "        :return: a string of drunk's name\n",
    "        \"\"\"\n",
    "        # checks if drunk's name is None\n",
    "        if self is not None:\n",
    "            # return name if it doesn't\n",
    "            return self._name\n",
    "\n",
    "        # return Anonymous if it does\n",
    "        return 'Anonymous'\n",
    "\n",
    "\n",
    "class Usual_drunk(Drunk):\n",
    "    def take_step(self):\n",
    "        \"\"\"\n",
    "        take_step has 4 steo choices and return a random choice for the drunkard to move in that direction\n",
    "        :return: random step choice\n",
    "        \"\"\"\n",
    "        # 4 step choices of length one and parallel to the x-axis or y-axis.\n",
    "        step_choices = [(0, 1), (0, -1), (1, 0), (-1, 0)]\n",
    "        # return random choice\n",
    "        return random.choice(step_choices)\n",
    "\n",
    "\n",
    "def walk(field, drunk, num_steps):\n",
    "    \"\"\"\n",
    "    walk is one walk of drunk from starting postion to ending with specified number of steps\n",
    "    :param field: field instance where the drunk exists\n",
    "    :param drunk: drunk instance who needs to walk\n",
    "    :param num_steps: number of steps the drunk should take in their walk\n",
    "    :return: distance from start to finish after taking specified number of steps\n",
    "    \"\"\"\n",
    "    # initialise\n",
    "    # start - the current location of drunk\n",
    "    start = field.get_loc(drunk)\n",
    "\n",
    "    # loop through number of steps\n",
    "    for s in range(num_steps):\n",
    "        # move drunk on each step\n",
    "        field.move_drunk(drunk)\n",
    "\n",
    "    # calculate and return distance from starting position to final position of drunk\n",
    "    return start.dist_from(field.get_loc(drunk))\n",
    "\n",
    "\n",
    "def sim_walks(num_steps, num_trials, d_class):\n",
    "       \n",
    "    walker = d_class()# initialise walker - a new drunk instance, in our case, its Usual_drunk\n",
    "    origin = Location(0, 0)# origin - start position of newly created drunk\n",
    "    distances = []# distances - empty list to store calculated distance of each trial\n",
    "\n",
    "    # loop through number of trials\n",
    "    for t in range(num_trials):\n",
    "        # create a new instance of field for each trial\n",
    "        field = Field()\n",
    "\n",
    "        # add the drunk for the created field in each trial\n",
    "        field.add_drunk(walker, origin)\n",
    "\n",
    "        # add distance from each trial to distances\n",
    "        distances.append(round(walk(field, walker, num_steps), 1))\n",
    "\n",
    "    # return the distances in end\n",
    "    return distances\n",
    "\n",
    "# modified functions of Drunkard's walk from textbook for solving assignment problems\n",
    "\n",
    "\n",
    "\n",
    "def walk_avg_dist(field, drunk, num_steps):\n",
    "    \"\"\"\n",
    "    walk_avg_dist is one walk of drunk from starting postion to ending with specified number of steps, while calculating distance after each step\n",
    "    :param field: field instance where the drunk exists\n",
    "    :param drunk: drunk instance who needs to walk\n",
    "    :param num_steps: number of steps the drunk should take in their walk\n",
    "    :return: average distance of all distances from start to end after taking each step\n",
    "    \"\"\"\n",
    "    # initialise\n",
    "    # start - the current location of drunk\n",
    "    # distances - empty array to store distances\n",
    "    start = field.get_loc(drunk)\n",
    "    distances = []\n",
    "\n",
    "    # loop through number of steps\n",
    "    for s in range(num_steps):\n",
    "        # move drunk on each step\n",
    "        field.move_drunk(drunk)\n",
    "\n",
    "        # calculate the distance from starting position to new position  of drunk and store it in distances\n",
    "        distances.append(start.dist_from(field.get_loc(drunk)))\n",
    "\n",
    "    # calculate and return average distance of all distances after each step\n",
    "    return round(sum(distances) / len(distances), 4)\n",
    "\n",
    "\n",
    "def sim_walks_avg(num_steps, num_trials, d_class):\n",
    "    walker = d_class()\n",
    "    origin = Location(0, 0)\n",
    "    mean_distances = []\n",
    "\n",
    "    # loop through number of trials\n",
    "    for t in range(num_trials):\n",
    "        # create a new instance of field for each trial\n",
    "        field = Field()\n",
    "\n",
    "        # add the drunk for the created field in each trial\n",
    "        field.add_drunk(walker, origin)\n",
    "\n",
    "        # add average distances from each trial to distances\n",
    "        mean_distances.append(round(walk_avg_dist(field, walker, num_steps), 1))\n",
    "\n",
    "    # return the list of average distances\n",
    "    return mean_distances"
   ]
  },
  {
   "cell_type": "markdown",
   "id": "7cb04eb1",
   "metadata": {},
   "source": [
    "# 351-A"
   ]
  },
  {
   "cell_type": "code",
   "execution_count": 17,
   "id": "50ba2a02",
   "metadata": {},
   "outputs": [
    {
     "data": {
      "image/png": "[encoded data removed]",
      "text/plain": [
       "<Figure size 432x288 with 1 Axes>"
      ]
     },
     "metadata": {
      "needs_background": "light"
     },
     "output_type": "display_data"
    }
   ],
   "source": [
    "def drunk_test_line_plot(walk_lengths, num_trials, d_class):\n",
    "    \n",
    "    # initialise mean_distance - empty list to store mean distance after each simulation for different walk lengths\n",
    "    mean_distance = []\n",
    "    for num_step in walk_lengths:# loop through different walk lengths\n",
    "        # get distances for each trial for each walk length\n",
    "        distances = sim_walks(num_step, num_trials, d_class)\n",
    "\n",
    "        # calculate mean of these distances for each walk length\n",
    "        mean_distance.append(round(sum(distances) / len(distances), 4))\n",
    "\n",
    "    # x number of steps for square root line\n",
    "    x = list(range(10, 100001))\n",
    "    # sqrt_distance - a list of square root of number of steps\n",
    "    sqrt_distances = [math.sqrt(x) for x in range(10, 100001)]\n",
    "\n",
    "    # plotting line graph with walk_lengths on x-axis and mean/sqrt distances on y-axis\n",
    "    # line 1 - mean distances of Usual_drunk\n",
    "    plt.plot(walk_lengths, mean_distance, '-b', label=d_class.__name__)\n",
    "    # line 2 - square root of steps\n",
    "    plt.plot(x, sqrt_distances, ':b', label=\"sqrt(steps)\")\n",
    "    # title to the plot\n",
    "    plt.title(\"Mean Distance from origin(\" + str(num_trials) + \"trials)\")\n",
    "    # x label for plot\n",
    "    plt.xlabel(\"Num of steps\")\n",
    "    # y label for plot\n",
    "    plt.ylabel(\"Distance from origin\")\n",
    "    # legend for plot, loc defined location, where we want the legend, and having \"best\" places it accordingly based on our plot\n",
    "    plt.legend(loc=\"best\")\n",
    "\n",
    "    # x-axis and y-axis with semi-logarithmic values\n",
    "    plt.semilogx()\n",
    "    plt.semilogy()\n",
    "\n",
    "    # display the plot\n",
    "    plt.show()\n",
    "drunk_test_line_plot((10,100,1000,10000,100000), 100, Usual_drunk)"
   ]
  },
  {
   "cell_type": "markdown",
   "id": "ae4cc07f",
   "metadata": {},
   "source": [
    "# 351-B"
   ]
  },
  {
   "cell_type": "code",
   "execution_count": 18,
   "id": "5911c623",
   "metadata": {},
   "outputs": [
    {
     "data": {
      "image/png": "[encoded data removed]",
      "text/plain": [
       "<Figure size 432x288 with 2 Axes>"
      ]
     },
     "metadata": {
      "needs_background": "light"
     },
     "output_type": "display_data"
    }
   ],
   "source": [
    "def journey_scatter(num_steps):\n",
    "    \"\"\"\n",
    "    journey_scatter traces the walk of the drunk and plot the location after each step in a scatter plot\n",
    "    :param num_steps: number of steps the drunk should take in their walk\n",
    "    \"\"\"\n",
    "    # Initialize\n",
    "    # start - origin of drunk (0,0)\n",
    "    # drunk - a new instance of Usual Drunk\n",
    "    # field - a new field for drunk and add drunk to field\n",
    "    # x_walk - list of x values of all locations of drunk\n",
    "    # y_walk - list of y values of all locations of drunk\n",
    "    start = Location(0.0, 0.0)\n",
    "    drunk = Usual_drunk()\n",
    "    field = Field()\n",
    "    field.add_drunk(drunk, start)\n",
    "    x_walk = [0.0]\n",
    "    y_walk = [0.0]\n",
    "\n",
    "    # loop through number of steps\n",
    "    for step in range(num_steps):\n",
    "        # move drunk to new location on each step\n",
    "        field.move_drunk(drunk)\n",
    "        # get the new location of drunk\n",
    "        loc = field.get_loc(drunk)\n",
    "\n",
    "        # get x value of location\n",
    "        x_loc = loc.get_x()\n",
    "        # get y value of location\n",
    "        y_loc = loc.get_y()\n",
    "\n",
    "        # store x value of location in x_walk\n",
    "        x_walk.append(x_loc)\n",
    "        # store y value of location in y_walk\n",
    "        y_walk.append(y_loc)\n",
    "\n",
    "    # list of number of colors required, which is one for each step, therefore list is of length num_steps + 1\n",
    "    colors_scatter = list(range(0, num_steps + 1))\n",
    "\n",
    "    #  ploting with x_walk and y_walk on x-axis and y-axis respectively with cividis color map with list of colors\n",
    "    plt.scatter(x_walk, y_walk, c=colors_scatter, cmap='cividis', label=Usual_drunk.__name__)\n",
    "\n",
    "    # title of plot\n",
    "    plt.title('Journey of Drunkard friend ('\n",
    "              + str(num_steps) + ' steps)')\n",
    "    # x-label of the plot\n",
    "    plt.xlabel('Steps East/West of Origin')\n",
    "    # y label of the plot\n",
    "    plt.ylabel('Steps North/South of Origin')\n",
    "    # legend for the plot\n",
    "    plt.legend(loc='best')\n",
    "    plt.colorbar()\n",
    "    plt.show()\n",
    "\n",
    "journey_scatter(1000)"
   ]
  },
  {
   "cell_type": "markdown",
   "id": "cfc181a5",
   "metadata": {},
   "source": [
    "# 351-C"
   ]
  },
  {
   "cell_type": "code",
   "execution_count": 19,
   "id": "aaac34e5",
   "metadata": {},
   "outputs": [
    {
     "data": {
      "image/png": "[encoded data removed]",
      "text/plain": [
       "<Figure size 720x504 with 2 Axes>"
      ]
     },
     "metadata": {
      "needs_background": "light"
     },
     "output_type": "display_data"
    }
   ],
   "source": [
    "def histograms(num_steps, num_trials, d_class):\n",
    "    \"\"\"\n",
    "    histograms plots two graphs, one displaying distances histogram from starting to ending location for each simulation run, and second\n",
    "    displaying average of distances of all steps for each simulation run\n",
    "    :param num_steps: number of steps the drunk should take in their walk\n",
    "    :param num_trials: number of times the drunk walks\n",
    "    :param d_class: As we have only one drunk type for this assignment, it will be Usual_drunk's class name\n",
    "    \"\"\"\n",
    "\n",
    "    # get list of distances for each simulation run\n",
    "    distances = sim_walks(num_steps, num_trials, d_class)\n",
    "    # get list of average distances of all steps for each simulation run\n",
    "    mean_distances = sim_walks_avg(num_steps, num_trials, d_class)\n",
    "\n",
    "    # creating subplots with 1 row and 2 columns and unpack the axes immediately with figure size of 10\" width and 7\" height\n",
    "    fig, (axs1, axs2) = plt.subplots(1, 2,\n",
    "                                     figsize=(10, 7),\n",
    "                                     tight_layout=True)\n",
    "\n",
    "    # plotting histogram of distances in axes 1 i.e., in column 1\n",
    "    axs1.hist(distances)\n",
    "    # title for plot in axes 1\n",
    "    axs1.set_title('Euclidean distance from the starting\\n location to the ending locations ('\n",
    "                   + str(num_steps) + ' steps)')\n",
    "    # x-label for plot in axes 1\n",
    "    axs1.set_xlabel('Distances')\n",
    "    # y-label for plot in axes 1\n",
    "    axs1.set_ylabel('Frequency')\n",
    "\n",
    "    # plotting histogram of average distances in axes 2 i.e., in column 2\n",
    "    axs2.hist(mean_distances)\n",
    "    # title for plot in axes 2\n",
    "    axs2.set_title('Avg. Euclidean distances('\n",
    "                   + str(num_steps) + ' steps)')\n",
    "    # x-label for plot in axes 2\n",
    "    axs2.set_xlabel('Distances')\n",
    "    # xy-label for plot in axes 2\n",
    "    axs2.set_ylabel('Frequency')\n",
    "\n",
    "    # display the plot\n",
    "    plt.show()\n",
    "histograms(10000, 100, Usual_drunk)"
   ]
  },
  {
   "cell_type": "markdown",
   "id": "7ba0c302",
   "metadata": {},
   "source": [
    "# 351-D"
   ]
  },
  {
   "cell_type": "code",
   "execution_count": 26,
   "id": "7dbc89de",
   "metadata": {},
   "outputs": [
    {
     "data": {
      "image/png": "[encoded data removed]",
      "text/plain": [
       "<Figure size 720x504 with 6 Axes>"
      ]
     },
     "metadata": {
      "needs_background": "light"
     },
     "output_type": "display_data"
    }
   ],
   "source": [
    "def compare_histograms(num_steps, d_class):\n",
    "    \n",
    "    mean_distances_1000 = sim_walks_avg(num_steps, 1000, d_class)\n",
    "\n",
    "    # creating subplots \n",
    "    fig, axs = plt.subplots(2, 3,\n",
    "                            figsize=(10, 7),\n",
    "                            tight_layout=True)\n",
    "\n",
    "\n",
    "    axs[0, 0].hist(mean_distances_1000[0:50])\n",
    "    # title of plot in axes (0, 0)\n",
    "    axs[0, 0].set_title('Avg. Euclidean distances(50 trials)')\n",
    "    # x-label of plot in axes (0, 0)\n",
    "    axs[0, 0].set_xlabel('Distances')\n",
    "    # y-label of plot in axes (0, 0)\n",
    "    axs[0, 0].set_ylabel('Frequency')\n",
    "\n",
    "    axs[0, 1].hist(mean_distances_1000[0:100])\n",
    "    # title of plot in axes (0, 1)\n",
    "    axs[0, 1].set_title('Avg. Euclidean distances(100 trials)')\n",
    "    # x-label of plot in axes (0, 1)\n",
    "    axs[0, 1].set_xlabel('Distances')\n",
    "    # y-label of plot in axes (0, 1)\n",
    "    axs[0, 1].set_ylabel('Frequency')\n",
    "\n",
    "    axs[0, 2].hist(mean_distances_1000[0:250])\n",
    "    # title of plot in axes (0, 2)\n",
    "    axs[0, 2].set_title('Avg. Euclidean distances(250 trials)')\n",
    "    # x-label of plot in axes (0, 2)\n",
    "    axs[0, 2].set_xlabel('Distances')\n",
    "    # y-label of plot in axes (0, 2)\n",
    "    axs[0, 2].set_ylabel('Frequency')\n",
    "\n",
    "    \n",
    "    axs[1, 0].hist(mean_distances_1000[0:500])\n",
    "    # title of the plot in axes (1, 0)\n",
    "    axs[1, 0].set_title('Avg. Euclidean distances(500 trials)')\n",
    "    # x-label of the plot in axes (1, 0)\n",
    "    axs[1, 0].set_xlabel('Distances')\n",
    "    # y-label of the plot in axes (1, 0)\n",
    "    axs[1, 0].set_ylabel('Frequency')\n",
    "\n",
    "    axs[1, 1].hist(mean_distances_1000[0:750])\n",
    "    # title of plot in axes (1, 1)\n",
    "    axs[1, 1].set_title('Avg. Euclidean distances(750 trials)')\n",
    "    # x-label of plot in axes (1, 1)\n",
    "    axs[1, 1].set_xlabel('Distances')\n",
    "    # y-label of plot in axes (1, 1)\n",
    "    axs[1, 1].set_ylabel('Frequency')\n",
    "\n",
    "    axs[1, 2].hist(mean_distances_1000)\n",
    "    # title of plot in axes (1, 2)\n",
    "    axs[1, 2].set_title('Avg. Euclidean distances(1000 trials)')\n",
    "    # x-label of plot in axes (1, 2)\n",
    "    axs[1, 2].set_xlabel('Distances')\n",
    "    # y-label of plot in axes (1, 2)\n",
    "    axs[1, 2].set_ylabel('Frequency')\n",
    "    plt.show()# displaying the plot\n",
    "compare_histograms(10000, Usual_drunk)\n"
   ]
  },
  {
   "cell_type": "code",
   "execution_count": null,
   "id": "d0971d5a",
   "metadata": {},
   "outputs": [],
   "source": []
  }
 ],
 "metadata": {
  "kernelspec": {
   "display_name": "Python 3 (ipykernel)",
   "language": "python",
   "name": "python3"
  },
  "language_info": {
   "codemirror_mode": {
    "name": "ipython",
    "version": 3
   },
   "file_extension": ".py",
   "mimetype": "text/x-python",
   "name": "python",
   "nbconvert_exporter": "python",
   "pygments_lexer": "ipython3",
   "version": "3.9.7"
  }
 },
 "nbformat": 4,
 "nbformat_minor": 5
}
