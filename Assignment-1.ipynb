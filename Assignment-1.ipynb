{
 "cells": [
  {
   "cell_type": "code",
   "execution_count": 2,
   "id": "30d2283a",
   "metadata": {},
   "outputs": [],
   "source": [
    "from datetime import datetime\n",
    "\n",
    "import matplotlib.pyplot as plt"
   ]
  },
  {
   "cell_type": "markdown",
   "id": "04b93fdd",
   "metadata": {},
   "source": [
    "# Q1"
   ]
  },
  {
   "cell_type": "code",
   "execution_count": 42,
   "id": "e8562aba",
   "metadata": {},
   "outputs": [
    {
     "name": "stdout",
     "output_type": "stream",
     "text": [
      "Enter your date of birthday:96/07/30\n",
      "You were born in Year:  1996\n",
      "1996-07-30T00:00:00\n"
     ]
    }
   ],
   "source": [
    "birthday = input(\"Enter your date of birthday:\")\n",
    "\n",
    "bday = datetime.strptime(birthday, '%y/%m/%d')\n",
    "year = birthday[:birthday.find(\"/\")]\n",
    "month = birthday[birthday.find(\"/\")+1:birthday.rfind(\"/\")]\n",
    "day = birthday[birthday.rfind(\"/\")+1:]\n",
    "\n",
    "print(\"You were born in Year: \", bday.year)\n",
    "#print(\"Month: \", month)\n",
    "#print(\"Date\", day)\n",
    "\n",
    "#bday = datetime.now()\n",
    "print(bday.isoformat())\n"
   ]
  },
  {
   "cell_type": "markdown",
   "id": "e89d4630",
   "metadata": {},
   "source": [
    "# Q2"
   ]
  },
  {
   "cell_type": "code",
   "execution_count": 4,
   "id": "71275039",
   "metadata": {},
   "outputs": [
    {
     "name": "stdout",
     "output_type": "stream",
     "text": [
      "Enter a value: 3\n",
      "Enter a value: 4\n",
      "Enter a value: 5\n",
      "Enter a value: 6\n",
      "Enter a value: 7\n",
      "Enter a value: 8\n",
      "Enter a value: 89\n",
      "Enter a value: 9\n",
      "Enter a value: 4\n",
      "Enter a value: 3\n",
      "The largest odd value entered was 89\n"
     ]
    }
   ],
   "source": [
    "from itertools import islice\n",
    "\n",
    "def numbers():\n",
    "    while True:\n",
    "        yield input('Enter a value: ')\n",
    "\n",
    "def odd(n):\n",
    "    return n % 2\n",
    "\n",
    "try:\n",
    "    print('The largest odd value entered was',\n",
    "          max(filter(odd, map(int, islice(numbers(), 10)))))\n",
    "except ValueError:\n",
    "    print('No odd values were entered.')"
   ]
  },
  {
   "cell_type": "markdown",
   "id": "8b89df38",
   "metadata": {},
   "source": [
    "# Q3"
   ]
  },
  {
   "cell_type": "code",
   "execution_count": 5,
   "id": "7128cc11",
   "metadata": {},
   "outputs": [
    {
     "name": "stdout",
     "output_type": "stream",
     "text": [
      "3\n",
      "5\n",
      "7\n",
      "11\n",
      "13\n",
      "17\n",
      "19\n",
      "23\n",
      "29\n",
      "31\n",
      "37\n",
      "41\n",
      "43\n",
      "47\n",
      "53\n",
      "59\n",
      "61\n",
      "67\n",
      "71\n",
      "73\n",
      "79\n",
      "83\n",
      "89\n",
      "97\n",
      "101\n",
      "103\n",
      "107\n",
      "109\n",
      "113\n",
      "127\n",
      "131\n",
      "137\n",
      "139\n",
      "149\n",
      "151\n",
      "157\n",
      "163\n",
      "167\n",
      "173\n",
      "179\n",
      "181\n",
      "191\n",
      "193\n",
      "197\n",
      "199\n",
      "211\n",
      "223\n",
      "227\n",
      "229\n",
      "233\n",
      "239\n",
      "241\n",
      "251\n",
      "257\n",
      "263\n",
      "269\n",
      "271\n",
      "277\n",
      "281\n",
      "283\n",
      "293\n",
      "307\n",
      "311\n",
      "313\n",
      "317\n",
      "331\n",
      "337\n",
      "347\n",
      "349\n",
      "353\n",
      "359\n",
      "367\n",
      "373\n",
      "379\n",
      "383\n",
      "389\n",
      "397\n",
      "401\n",
      "409\n",
      "419\n",
      "421\n",
      "431\n",
      "433\n",
      "439\n",
      "443\n",
      "449\n",
      "457\n",
      "461\n",
      "463\n",
      "467\n",
      "479\n",
      "487\n",
      "491\n",
      "499\n",
      "503\n",
      "509\n",
      "521\n",
      "523\n",
      "541\n",
      "547\n",
      "557\n",
      "563\n",
      "569\n",
      "571\n",
      "577\n",
      "587\n",
      "593\n",
      "599\n",
      "601\n",
      "607\n",
      "613\n",
      "617\n",
      "619\n",
      "631\n",
      "641\n",
      "643\n",
      "647\n",
      "653\n",
      "659\n",
      "661\n",
      "673\n",
      "677\n",
      "683\n",
      "691\n",
      "701\n",
      "709\n",
      "719\n",
      "727\n",
      "733\n",
      "739\n",
      "743\n",
      "751\n",
      "757\n",
      "761\n",
      "769\n",
      "773\n",
      "787\n",
      "797\n",
      "809\n",
      "811\n",
      "821\n",
      "823\n",
      "827\n",
      "829\n",
      "839\n",
      "853\n",
      "857\n",
      "859\n",
      "863\n",
      "877\n",
      "881\n",
      "883\n",
      "887\n",
      "907\n",
      "911\n",
      "919\n",
      "929\n",
      "937\n",
      "941\n",
      "947\n",
      "953\n",
      "967\n",
      "971\n",
      "977\n",
      "983\n",
      "991\n",
      "997\n"
     ]
    }
   ],
   "source": [
    "for num in range(3,1000):\n",
    "    for i in range(2,num):\n",
    "        if (num%i==0):\n",
    "            break\n",
    "    else:\n",
    "        print(num)\n"
   ]
  },
  {
   "cell_type": "markdown",
   "id": "dde53aab",
   "metadata": {},
   "source": [
    "# Q4"
   ]
  },
  {
   "cell_type": "code",
   "execution_count": 6,
   "id": "6f3cb742",
   "metadata": {},
   "outputs": [
    {
     "name": "stdout",
     "output_type": "stream",
     "text": [
      "Enter  integer greater than 2:6\n",
      "Greater divisor of 6.0 is 3\n"
     ]
    }
   ],
   "source": [
    "x= int(input('Enter  integer greater than 2:'))\n",
    "greater_divisor=None\n",
    "for g in range(2,x):\n",
    "    while x%g==0:\n",
    "        greater_divisor=g\n",
    "        x/=1\n",
    "        break\n",
    "if greater_divisor !=None:\n",
    "    print('Greater divisor of', x, 'is',greater_divisor)\n",
    "else:\n",
    "    print(x, 'is a prime number')"
   ]
  },
  {
   "cell_type": "markdown",
   "id": "8688a6fd",
   "metadata": {},
   "source": [
    "# Q5"
   ]
  },
  {
   "cell_type": "code",
   "execution_count": 38,
   "id": "f8ca399e",
   "metadata": {},
   "outputs": [
    {
     "name": "stdout",
     "output_type": "stream",
     "text": [
      "low = 1.0 high = 27 ans = 14.0\n",
      "low = 1.0 high = 14.0 ans = 7.5\n",
      "low = 1.0 high = 7.5 ans = 4.25\n",
      "low = 1.0 high = 4.25 ans = 2.625\n",
      "low = 2.625 high = 4.25 ans = 3.4375\n",
      "low = 2.625 high = 3.4375 ans = 3.03125\n",
      "low = 2.625 high = 3.03125 ans = 2.828125\n",
      "low = 2.828125 high = 3.03125 ans = 2.9296875\n",
      "low = 2.9296875 high = 3.03125 ans = 2.98046875\n",
      "low = 2.98046875 high = 3.03125 ans = 3.005859375\n",
      "low = 2.98046875 high = 3.005859375 ans = 2.9931640625\n",
      "low = 2.9931640625 high = 3.005859375 ans = 2.99951171875\n",
      "low = 2.99951171875 high = 3.005859375 ans = 3.002685546875\n",
      "low = 2.99951171875 high = 3.002685546875 ans = 3.0010986328125\n",
      "num guesses = 14\n",
      "3.00030517578125 is close to cube root of 27\n"
     ]
    }
   ],
   "source": [
    "x = 27\n",
    "epsilon = 0.01\n",
    "num_guesses = 0\n",
    "low = min(x, 1.0)\n",
    "high = max(1.0, x)\n",
    "ans = (high + low) / 2.0\n",
    "while abs(ans**3 - x) >= epsilon:\n",
    "    print('low =', low, 'high =', high, 'ans =', ans)\n",
    "    num_guesses += 1\n",
    "    if ans**3 < x:\n",
    "        low = ans\n",
    "    else:\n",
    "        high = ans\n",
    "    ans = (high + low) / 2.0\n",
    "print('num guesses =', num_guesses)\n",
    "print(ans, 'is close to cube root of', x)"
   ]
  },
  {
   "cell_type": "markdown",
   "id": "09b1f53b",
   "metadata": {},
   "source": [
    "# Q6"
   ]
  },
  {
   "cell_type": "code",
   "execution_count": 8,
   "id": "2000f8bf",
   "metadata": {},
   "outputs": [
    {
     "data": {
      "text/plain": [
       "[4,\n",
       " 6,\n",
       " 8,\n",
       " 9,\n",
       " 10,\n",
       " 12,\n",
       " 14,\n",
       " 15,\n",
       " 16,\n",
       " 18,\n",
       " 20,\n",
       " 21,\n",
       " 22,\n",
       " 24,\n",
       " 25,\n",
       " 26,\n",
       " 27,\n",
       " 28,\n",
       " 30,\n",
       " 32,\n",
       " 33,\n",
       " 34,\n",
       " 35,\n",
       " 36,\n",
       " 38,\n",
       " 39,\n",
       " 40,\n",
       " 42,\n",
       " 44,\n",
       " 45,\n",
       " 46,\n",
       " 48,\n",
       " 49,\n",
       " 50,\n",
       " 51,\n",
       " 52,\n",
       " 54,\n",
       " 55,\n",
       " 56,\n",
       " 57,\n",
       " 58,\n",
       " 60,\n",
       " 62,\n",
       " 63,\n",
       " 64,\n",
       " 65,\n",
       " 66,\n",
       " 68,\n",
       " 69,\n",
       " 70,\n",
       " 72,\n",
       " 74,\n",
       " 75,\n",
       " 76,\n",
       " 77,\n",
       " 78,\n",
       " 80,\n",
       " 81,\n",
       " 82,\n",
       " 84,\n",
       " 85,\n",
       " 86,\n",
       " 87,\n",
       " 88,\n",
       " 90,\n",
       " 91,\n",
       " 92,\n",
       " 93,\n",
       " 94,\n",
       " 95,\n",
       " 96,\n",
       " 98,\n",
       " 99,\n",
       " 100]"
      ]
     },
     "execution_count": 8,
     "metadata": {},
     "output_type": "execute_result"
    }
   ],
   "source": [
    "[x for x in range(2, 101)\n",
    "     if any(x % y == 0 for y in range(2, x))]"
   ]
  },
  {
   "cell_type": "code",
   "execution_count": 9,
   "id": "2e5c0633",
   "metadata": {},
   "outputs": [
    {
     "data": {
      "image/png": "[encoded data removed]",
      "text/plain": [
       "<Figure size 432x288 with 1 Axes>"
      ]
     },
     "metadata": {
      "needs_background": "light"
     },
     "output_type": "display_data"
    }
   ],
   "source": [
    "import numpy as np\n",
    "from itertools import chain\n",
    "# x axis values\n",
    "x = np.asarray([10^1,10^2,10^3,10^4,10^5])\n",
    "# corresponding y axis values\n",
    "y = np.asarray([10^1,10^2])\n",
    "\n",
    "m=sum(chain(x,y))/len(list(chain(x,y)))\n",
    "# plotting the points\n",
    "plt.plot(m)\n",
    "plt.plot(x)\n",
    "\n",
    "\n",
    "# naming the x axis\n",
    "plt.xlabel('x - axis')\n",
    "# naming the y axis\n",
    "plt.ylabel('y - axis')\n",
    " \n",
    "# giving a title to my graph\n",
    "plt.title('My first graph!')\n",
    " \n",
    "# function to show the plot\n",
    "plt.show(m)"
   ]
  },
  {
   "cell_type": "code",
   "execution_count": 10,
   "id": "da58e0ef",
   "metadata": {},
   "outputs": [
    {
     "data": {
      "image/png": "[encoded data removed]",
      "text/plain": [
       "<Figure size 432x288 with 1 Axes>"
      ]
     },
     "metadata": {
      "needs_background": "light"
     },
     "output_type": "display_data"
    }
   ],
   "source": [
    "import numpy as np\n",
    "np.random.seed(123)\n",
    "all_walks = []\n",
    "\n",
    "# Simulate random walk 500 times\n",
    "for i in range(10000) :\n",
    "    random_walk = [0]\n",
    "    for x in range(100) :\n",
    "        step = random_walk[-1]\n",
    "        dice = np.random.randint(1,7)\n",
    "        if dice <= 2:\n",
    "            step = max(0, step - 1)\n",
    "        elif dice <= 5:\n",
    "            step = step + 1\n",
    "        else:\n",
    "            step = step + np.random.randint(1,7)\n",
    "        if np.random.rand() <= 0.001 :\n",
    "            step = 0\n",
    "        random_walk.append(step)\n",
    "    all_walks.append(random_walk)\n",
    "\n",
    "# Create and plot np_aw_t\n",
    "np_aw_t = np.transpose(np.array(all_walks))\n",
    "\n",
    "# Select last row from np_aw_t: ends\n",
    "ends = np.array(np_aw_t[-1])\n",
    "\n",
    "# Plot histogram of ends, display plot\n",
    "plt.hist(ends)\n",
    "plt.show()\n"
   ]
  },
  {
   "cell_type": "code",
   "execution_count": 11,
   "id": "5719450d",
   "metadata": {},
   "outputs": [
    {
     "ename": "SyntaxError",
     "evalue": "invalid syntax (<ipython-input-11-8629580678a1>, line 6)",
     "output_type": "error",
     "traceback": [
      "\u001b[0;36m  File \u001b[0;32m\"<ipython-input-11-8629580678a1>\"\u001b[0;36m, line \u001b[0;32m6\u001b[0m\n\u001b[0;31m    y = [random.random()*5 for in in x]\u001b[0m\n\u001b[0m                               ^\u001b[0m\n\u001b[0;31mSyntaxError\u001b[0m\u001b[0;31m:\u001b[0m invalid syntax\n"
     ]
    }
   ],
   "source": [
    "import random\n",
    "# Create some random data\n",
    "x = np.asarray([10,100,1000,10000,1000000])\n",
    "# corresponding y axis values\n",
    "y = np.zeros_like(x)\n",
    "y = [random.random()*5 for in in x]\n",
    "\n",
    "\n",
    "# Calculate the simple average of the data\n",
    "y_mean = [np.mean(y)]*len(x)\n",
    "\n",
    "fig,ax = plt.subplots()\n",
    "\n",
    "# Plot the data\n",
    "data_line = ax.plot(x,y, label='Data', marker='o')\n",
    "\n",
    "# Plot the average line\n",
    "mean_line = ax.plot(x,y_mean, label='Mean', linestyle='--')\n",
    "\n",
    "# Make a legend\n",
    "legend = ax.legend(loc='upper right')\n",
    "\n",
    "plt.show()"
   ]
  },
  {
   "cell_type": "code",
   "execution_count": 54,
   "id": "d210aba1",
   "metadata": {},
   "outputs": [
    {
     "name": "stderr",
     "output_type": "stream",
     "text": [
      "No handles with labels found to put in legend.\n"
     ]
    },
    {
     "data": {
      "image/png": "[encoded data removed]",
      "text/plain": [
       "<Figure size 432x288 with 1 Axes>"
      ]
     },
     "metadata": {
      "needs_background": "light"
     },
     "output_type": "display_data"
    }
   ],
   "source": [
    "\n",
    "class Location(object):\n",
    "  def __init__(self, x, y):\n",
    "    self.x=x\n",
    "    self.y= y\n",
    " \n",
    "    \n",
    "num_trials= 100\n",
    "\n",
    "def sim_drunk(num_trials,d_class, walk_length):\n",
    "\n",
    "    meanDistances=[]\n",
    "    \n",
    "    for num_steps in walk_length:\n",
    "    \n",
    "        print(\"starting simulation of\", num_steps, \"steps\")\n",
    "        \n",
    "        trials=sim_walks(num_steps, num_trials, d_class)\n",
    "        \n",
    "        mean=sum(trials)/len(trials)\n",
    "        \n",
    "        meanDistances.append(mean)\n",
    "    \n",
    "    return meanDistances\n",
    "\n",
    "def sim_walks(num_steps,num_trials, d_class):\n",
    "\n",
    "    homer=d_class()\n",
    "    \n",
    "    origin=location(0,0)\n",
    "    \n",
    "    distance=[]\n",
    "    \n",
    "    for t in range(num_trials):\n",
    "        \n",
    "        f=field()\n",
    "        \n",
    "        f.add_drunk(homer,origin)\n",
    "        \n",
    "        distances.append(round(walk(f,homer,num_steps),1))\n",
    "        \n",
    "        return distances\n",
    "    \n",
    "    \n",
    "def sim_all_plot(drunk_kids,walk_lengths, num_trials):\n",
    "    \n",
    "    style_choice=style.interator(('m-', 'r:', 'k-.'))\n",
    "    \n",
    "    for d_class in drunk_kinds:\n",
    "    \n",
    "        cur_style=style_choice.next_style()\n",
    "        \n",
    "        print(\"starting simulation of\", d_class._name_)\n",
    "        \n",
    "        means = sim_drunk(num_trials, d_class, walk_lengths)\n",
    "        \n",
    "        plt.plot(walk_lengths, means, cur_style, label= d_class._name_)\n",
    "        plt.show()\n",
    "        \n",
    "class Drunk(object):\n",
    "    \n",
    "    def __init__(self, name = None):\n",
    "        \"\"\"Assumes name is a str\"\"\"\n",
    "        self._name = name\n",
    "    \n",
    "    \n",
    "    def _str_(self):\n",
    "        if self != None:\n",
    "            return self._name\n",
    "        return 'Anonymous'\n",
    "\n",
    "\n",
    "\n",
    "class Usual_drunk (Drunk):\n",
    "    def take_step(self):\n",
    "        step_choices = [(0,1), (2,-1), (1, 0), (-1, 0)]\n",
    "        return random.choice(step_choices)\n",
    "        return random.choice(step_choices)\n",
    "\n",
    "x=[10,100,1000,10000]\n",
    "\n",
    "\n",
    "plt.title(f\"mean distance from origin ({num_trials} trials\")\n",
    "\n",
    "plt.xlabel(\"number of steps\")\n",
    "\n",
    "plt.ylabel(\"distance from origin\")\n",
    "\n",
    "plt.legend(loc='best')\n",
    "\n",
    "#plt.semilogx(x,y)\n",
    "\n",
    "#plt.semilogy()\n",
    "\n",
    "plt.hist(ends)\n",
    "plt.show()"
   ]
  },
  {
   "cell_type": "code",
   "execution_count": 47,
   "id": "43273c72",
   "metadata": {},
   "outputs": [],
   "source": [
    "class Drunk(object):\n",
    "    \n",
    "    def __init__(self, name = None):\n",
    "        \"\"\"Assumes name is a str\"\"\"\n",
    "        self._name = name\n",
    "    \n",
    "    \n",
    "    def _str_(self):\n",
    "        if self != None:\n",
    "            return self._name\n",
    "        return 'Anonymous'\n",
    "\n",
    "\n",
    "\n",
    "class Usual_drunk (Drunk):\n",
    "    def take_step(self):\n",
    "        step_choices = [(0,1), (2,-1), (1, 0), (-1, 0)]\n",
    "        return random.choice(step_choices)\n",
    "        return random.choice(step_choices)\n"
   ]
  },
  {
   "cell_type": "code",
   "execution_count": null,
   "id": "52bdd694",
   "metadata": {},
   "outputs": [],
   "source": []
  }
 ],
 "metadata": {
  "kernelspec": {
   "display_name": "Python 3",
   "language": "python",
   "name": "python3"
  },
  "language_info": {
   "codemirror_mode": {
    "name": "ipython",
    "version": 3
   },
   "file_extension": ".py",
   "mimetype": "text/x-python",
   "name": "python",
   "nbconvert_exporter": "python",
   "pygments_lexer": "ipython3",
   "version": "3.8.8"
  }
 },
 "nbformat": 4,
 "nbformat_minor": 5
}
